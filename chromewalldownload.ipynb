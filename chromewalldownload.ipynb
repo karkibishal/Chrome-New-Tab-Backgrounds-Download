{
 "cells": [
  {
   "cell_type": "code",
   "execution_count": 1,
   "metadata": {},
   "outputs": [],
   "source": [
    "from bs4 import BeautifulSoup\n",
    "import markdown\n",
    "import re\n",
    "from pathlib import Path\n",
    "import requests\n",
    "import itertools"
   ]
  },
  {
   "cell_type": "code",
   "execution_count": null,
   "metadata": {},
   "outputs": [],
   "source": [
    "with open(\"chrome-ntp-backgrounds.md\", \"r\", encoding=\"utf-8\") as input_file:\n",
    "    text = input_file.read()\n",
    "html = markdown.markdown(text)\n",
    "\n",
    "soup = BeautifulSoup(html, 'html.parser')\n",
    "\n",
    "heading = soup.find_all('h1')\n",
    "folder_name = []\n",
    "for h in heading:\n",
    "    folder_name.append(h.string)\n",
    "\n",
    "para = soup.find_all('p')\n",
    "links_list = []\n",
    "for p in para:\n",
    "    temp = p.find_all(href=re.compile('googleusercontent'))\n",
    "    links = []\n",
    "    for t in temp:\n",
    "        links.append(t.get('href'))\n",
    "    links_list.append(links)"
   ]
  },
  {
   "cell_type": "code",
   "execution_count": 3,
   "metadata": {},
   "outputs": [],
   "source": [
    "wallpaper_size = '=w3840-h2160-p-k-no-nd-mv'\n",
    "\n",
    "for folder, link_group in zip(folder_name, links_list):\n",
    "    folder_path = Path.cwd().joinpath(folder)\n",
    "    folder_path.mkdir(parents=True, exist_ok=True)\n",
    "    for count, link in enumerate(link_group, start=1):\n",
    "        link = link + wallpaper_size\n",
    "        r = requests.get(link)\n",
    "        with open(folder_path.joinpath(str(count) + '.jpg'), 'wb') as pic:\n",
    "            pic.write(r.content)\n",
    "    "
   ]
  }
 ],
 "metadata": {
  "kernelspec": {
   "display_name": "Python 3",
   "language": "python",
   "name": "python3"
  },
  "language_info": {
   "codemirror_mode": {
    "name": "ipython",
    "version": 3
   },
   "file_extension": ".py",
   "mimetype": "text/x-python",
   "name": "python",
   "nbconvert_exporter": "python",
   "pygments_lexer": "ipython3",
   "version": "3.8.5"
  }
 },
 "nbformat": 4,
 "nbformat_minor": 4
}
